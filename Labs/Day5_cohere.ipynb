{
  "nbformat": 4,
  "nbformat_minor": 0,
  "metadata": {
    "colab": {
      "provenance": [],
      "authorship_tag": "ABX9TyPnXhPWsGBnqthL2omDe3Yk",
      "include_colab_link": true
    },
    "kernelspec": {
      "name": "python3",
      "display_name": "Python 3"
    },
    "language_info": {
      "name": "python"
    }
  },
  "cells": [
    {
      "cell_type": "markdown",
      "metadata": {
        "id": "view-in-github",
        "colab_type": "text"
      },
      "source": [
        "<a href=\"https://colab.research.google.com/github/prachitshukla/GenAI/blob/main/Labs/Day5_cohere.ipynb\" target=\"_parent\"><img src=\"https://colab.research.google.com/assets/colab-badge.svg\" alt=\"Open In Colab\"/></a>"
      ]
    },
    {
      "cell_type": "code",
      "execution_count": 1,
      "metadata": {
        "colab": {
          "base_uri": "https://localhost:8080/"
        },
        "id": "zgqn73lBjy6F",
        "outputId": "d6b40bd8-59ce-4d81-941b-381e69359315"
      },
      "outputs": [
        {
          "output_type": "stream",
          "name": "stdout",
          "text": [
            "\u001b[2K     \u001b[90m━━━━━━━━━━━━━━━━━━━━━━━━━━━━━━━━━━━━━━━━\u001b[0m \u001b[32m145.3/145.3 kB\u001b[0m \u001b[31m2.0 MB/s\u001b[0m eta \u001b[36m0:00:00\u001b[0m\n",
            "\u001b[2K     \u001b[90m━━━━━━━━━━━━━━━━━━━━━━━━━━━━━━━━━━━━━━━━\u001b[0m \u001b[32m3.1/3.1 MB\u001b[0m \u001b[31m13.3 MB/s\u001b[0m eta \u001b[36m0:00:00\u001b[0m\n",
            "\u001b[2K     \u001b[90m━━━━━━━━━━━━━━━━━━━━━━━━━━━━━━━━━━━━━━━━\u001b[0m \u001b[32m75.6/75.6 kB\u001b[0m \u001b[31m6.1 MB/s\u001b[0m eta \u001b[36m0:00:00\u001b[0m\n",
            "\u001b[2K     \u001b[90m━━━━━━━━━━━━━━━━━━━━━━━━━━━━━━━━━━━━━━━━\u001b[0m \u001b[32m77.9/77.9 kB\u001b[0m \u001b[31m5.2 MB/s\u001b[0m eta \u001b[36m0:00:00\u001b[0m\n",
            "\u001b[2K     \u001b[90m━━━━━━━━━━━━━━━━━━━━━━━━━━━━━━━━━━━━━━━━\u001b[0m \u001b[32m58.3/58.3 kB\u001b[0m \u001b[31m4.8 MB/s\u001b[0m eta \u001b[36m0:00:00\u001b[0m\n",
            "\u001b[?25h"
          ]
        }
      ],
      "source": [
        "! pip install cohere -q"
      ]
    },
    {
      "cell_type": "code",
      "source": [
        "import cohere\n",
        "\n",
        "co = cohere.Client(\"2LByI4MLSuRWAmeaafiBATE9vuWAxvG9LdGO2l9p\")"
      ],
      "metadata": {
        "id": "g3Aloc9HlGxS"
      },
      "execution_count": 2,
      "outputs": []
    },
    {
      "cell_type": "code",
      "source": [
        "#chat generic\n",
        "\n",
        "response = co.chat(message=\"Hello\")\n",
        "\n",
        "print (response.text)"
      ],
      "metadata": {
        "colab": {
          "base_uri": "https://localhost:8080/"
        },
        "id": "d4eV9QAllS-O",
        "outputId": "1c0f13bd-98db-4c3a-f000-c16f42dd86fd"
      },
      "execution_count": 4,
      "outputs": [
        {
          "output_type": "stream",
          "name": "stdout",
          "text": [
            "Hi! Hello there! How's it going? I hope you're having a fantastic day so far. Is there anything I can help you with?\n"
          ]
        }
      ]
    },
    {
      "cell_type": "code",
      "source": [
        "print(response)"
      ],
      "metadata": {
        "colab": {
          "base_uri": "https://localhost:8080/"
        },
        "id": "zlMzeQ28l217",
        "outputId": "58a1dbdf-147c-4fe2-d91f-4273996f6149"
      },
      "execution_count": 5,
      "outputs": [
        {
          "output_type": "stream",
          "name": "stdout",
          "text": [
            "text=\"Hi! Hello there! How's it going? I hope you're having a fantastic day so far. Is there anything I can help you with?\" generation_id='35c94e7e-82da-4945-bf22-5e8dffe642a1' citations=None documents=None is_search_required=None search_queries=None search_results=None finish_reason='COMPLETE' tool_calls=None chat_history=[ChatMessage(role='USER', message='Hello'), ChatMessage(role='CHATBOT', message=\"Hi! Hello there! How's it going? I hope you're having a fantastic day so far. Is there anything I can help you with?\")] token_count={'prompt_tokens': 67, 'response_tokens': 30, 'total_tokens': 97, 'billed_tokens': 31} response_id='b19cadb1-f033-4cba-9e40-e9c0fdcb33b3' meta={'api_version': {'version': '1'}, 'billed_units': {'input_tokens': 1, 'output_tokens': 30}}\n"
          ]
        }
      ]
    },
    {
      "cell_type": "code",
      "source": [
        "# priliminary explaination using preamble\n",
        "\n",
        "response = co.chat(message=\"Hello\", preamble =\"You are an expert public speaking coach\")\n",
        "\n",
        "print(response.text)"
      ],
      "metadata": {
        "colab": {
          "base_uri": "https://localhost:8080/"
        },
        "id": "DhEqTcsdnEwg",
        "outputId": "80871f47-2fe8-474e-ca36-560c129d75b8"
      },
      "execution_count": 7,
      "outputs": [
        {
          "output_type": "stream",
          "name": "stdout",
          "text": [
            "Hello! It's great to connect with you. As an expert public speaking coach, I'm here to offer guidance and support to help you become a more confident and impactful speaker. Whether you're an experienced presenter or just starting out, I can provide valuable insights and techniques to enhance your public speaking skills. Let's work together to overcome any challenges you may have and transform your public speaking experience. \n",
            "\n",
            "What specific areas of public speaking would you like to focus on first? We can tailor our sessions to your goals and work on elements like crafting compelling content, improving vocal projection and body language, mastering stage presence, or managing speaking anxiety. \n",
            "\n",
            "Remember, effective public speaking is a learnable skill, and I'm here to help you every step of the way!\n"
          ]
        }
      ]
    },
    {
      "cell_type": "code",
      "source": [
        "#stream of response data\n",
        "\n",
        "response = co.chat_stream(message = \"Hello. I'd like to learn about technique for effective audience engagement\",\n",
        "                   preamble =\"You are an expert public speaking coach\")\n",
        "\n",
        "for event in response :\n",
        "  if event.event_type == \"text-generation\":\n",
        "    print(event.text, end=' ')"
      ],
      "metadata": {
        "colab": {
          "base_uri": "https://localhost:8080/"
        },
        "id": "DU1BA-G6njcW",
        "outputId": "d47a260c-335f-4ff9-b0ee-035a291ce4e4"
      },
      "execution_count": 8,
      "outputs": [
        {
          "output_type": "stream",
          "name": "stdout",
          "text": [
            "Hello !  That 's  a  very  important  aspect  of  public  speaking ,  and  a  great  goal  to  strive  for .  Here  are  some  techniques  that  can  help  you  engage  your  audience : \n",
            "\n",
            "1 .  Eye  Contact :  Making  deliberate  eye  contact  with  different  individuals  or  groups  in  the  audience  can  help  engage  them .  It  personal izes  the  experience  and  makes  your  audience  feel  seen  and  appreciated .  \n",
            "\n",
            "2 .  Vary  Your  Sentence  Structure :  Using  varied  sentence  structures ,  from  short  and  sn appy  to  longer ,  more  descriptive  sentences ,  can  add  interest  and  keep  your  audience  engaged .  It 's  more  captivating  than  monoton ous ,  uniform  ph rasing .  \n",
            "\n",
            "3 .  Use Stories  and  Ane cd otes :  Sharing  relevant  stories  or  anecdotes  can  make  your  speech  more  relatable  and  memorable .  They  provide  a  break  from  the  main  flow  of  information  and  add  an  element  of  surprise ,  keeping  your  audience  engaged  and  curious .  \n",
            "\n",
            "4 .  Incorpor ate  Interaction :  There  are  many  ways  to  interact  with  your  audience ,  such  as  asking  questions ,  seeking  feedback ,  or  conducting  polls .  This  makes  the  experience  more  interactive  and  engaging ,  and  also  helps  you  understand  your  audience 's  perspective .  \n",
            "\n",
            "5 .  Visual  A ids :  Visual  elements  like  slides ,  videos ,  or  props  can  enhance  your  message  and  hold  the  audience 's  attention .  Ensure  they 're  high  quality ,  relevant ,  and  not  overly  distracting .  \n",
            "\n",
            "6 .  Use of  Humor :  A  well - placed  joke  or  light hearted  moment  can  break  the  ice  and  maintain  audience  engagement .  Know  your  audience ,  and  use  humor  that  resonates  with  them .  \n",
            "\n",
            "7 .  Slow  Down  and  Vary  Your  Pace :  Speaking  slowly ,  with  purpose  and  intention ,  can  make  your  speech  more  impactful .  Additionally ,  varying  your  speaking  pace  -  slowing  down  for  emphasis  or  speeding  up  to  excite  -  can  create  a  captivating  rhythm .  \n",
            "\n",
            "8 .  Practice  and  Re he arse :  Re hears ing  your  presentation  ensures  you 're  confident ,  fluent ,  and  able  to  focus  on  engaging  the  audience  rather  than  remembering  your  lines .  Practice  also  helps  you  anticipate  potential  challenges  and  improve  your  delivery .  \n",
            "\n",
            "9 .  Body  Language :  Your  posture ,  gestures ,  and  facial  expressions  can  convey  enthusiasm  and  engage  your  audience .  Practice  using  deliberate  and  purposeful  body  language  that  complements  your  message .  \n",
            "\n",
            "1 0 .  Personal  Touch :  Adding  a  personal  element  to  your  speech ,  sharing  your  own  relevant  experiences  or  anecdotes ,  can  make  your  presentation  more  relatable  and  engaging .  \n",
            "\n",
            "Remember ,  engaging  an  audience  is  an  art ,  and  it  often  comes  with  practice  and  experience .  Don 't  be  discouraged  if  it  doesn 't  come  easily  at  first  -  keep  trying ,  experiment  with  different  techniques ,  and  find  what  works  best  for  your  particular  audience  and  speaking  style .  Good  luck ! "
          ]
        }
      ]
    },
    {
      "cell_type": "code",
      "source": [
        "#chat history\n",
        "\n",
        "#create a conversation id\n",
        "\n",
        "import uuid\n",
        "conversation_id = str(uuid.uuid4())\n",
        "\n",
        "#Define a preamble\n",
        "#preamble = \"you are an expert public speaking coach\"\n",
        "#preamble = \"you are an weather expert \"\n",
        "\n",
        "preamble = \"you are an indian lawyer\"\n",
        "\n",
        "print('start the chat. type \"quit\" to end. \\n')\n",
        "\n",
        "while True:\n",
        "\n",
        "      #user message\n",
        "      message = input(\"User : \")\n",
        "\n",
        "      #condition to end the conversation\n",
        "      if message.lower() == \"quit\" :\n",
        "        print(\"Ending Chat .\")\n",
        "        break\n",
        "\n",
        "      response = co.chat_stream(message = message,\n",
        "                                preamble = preamble,\n",
        "                                conversation_id = conversation_id)\n",
        "\n",
        "      print(\"ChatBot : \", end = ' ')\n",
        "\n",
        "      for event in response :\n",
        "        if event.event_type == \"text-generation\" :\n",
        "          print (event.text, end =' ')\n",
        "\n",
        "      print(f\"\\n {'---'*100}\\n\")\n",
        "\n"
      ],
      "metadata": {
        "colab": {
          "base_uri": "https://localhost:8080/"
        },
        "id": "HFcODCQLpwU1",
        "outputId": "9020f03c-6110-4ea0-d4ec-37c83e0eab54"
      },
      "execution_count": 13,
      "outputs": [
        {
          "output_type": "stream",
          "name": "stdout",
          "text": [
            "start the chat. type \"quit\" to end. \n",
            "\n",
            "User : preamble of constitution\n",
            "ChatBot :  The  Pre amble  of  the  Constitution  is  a  brief  introductory  statement  that  sets  out  the  guiding  purpose  and  principles  of  the  Constitution  of  India .  It  serves  as  a  key  to  understanding  the  spirit  and  intention  behind  the  provisions  of  the  Constitution .  \n",
            "\n",
            "The  Pre amble  consists  of  a  few  concise  lines  that  lay  down  the  founding  values  and  the  broad  outlines  of  the  political  philosophy  on  which  the  Indian  Constitution  is  based .  It  begins  with  the  words ,  \" We ,  the  people  of  India ,\"  thereby  asserting  that  the  sovereign  power  of  the  nation  resides  in  its  people .  It  goes  on  to  enunci ate  the  objectives  and  the  collective  aspirations  of  the  Indian  people . \n",
            "\n",
            "The  Pre amble  declares  India  as  a  sovereign ,  socialist ,  secular ,  and  democratic  republic ,  and  sets  out  the  fundamental  values  and  principles  that  the  Constitution  seeks  to  uphold ,  such  as  justice ,  liberty ,  equality ,  and  fraternity .  It  also  emphasizes  the  commitment  to  promoting  the  welfare  of  the  people ,  ensuring  the  integrity  of  the  nation ,  and  fostering  respect  for  the  international  law  of  peace  and  harmony . \n",
            "\n",
            "The  Pre amble  has  been  described  as  the  \" soul  of  the  Constitution ,\"  capturing  its  essence  and  fundamental  spirit .  Though  it  doesn 't  have  the  force  of  law  in  the  same  way  that  the  provisions  of  the  Constitution  do ,  it  serves  as  a  guide  for  interpreting  the  provisions  and  is  considered  a  valuable  tool  for  understanding  the  intentions  of  the  fram ers  of  the  Constitution .  \n",
            "\n",
            "It 's  also  worth  noting  that  the  words  \" se cular \"  and  \" social ist \"  were  added  to  the  Pre amble  later ,  through  the  4 2 nd  Amendment  in  1 9 7 6 ,  reflecting  the  ideological  shift  of  the  time .  The  Pre amble ,  though  concise ,  is  a  powerful  statement  that  encapsulates  the  core  values  and  principles  that  under pin  the  Indian  Constitution  and  continues  to  inspire  generations  of  Indians . \n",
            " ------------------------------------------------------------------------------------------------------------------------------------------------------------------------------------------------------------------------------------------------------------------------------------------------------------\n",
            "\n",
            "User : quit\n",
            "Ending Chat .\n"
          ]
        }
      ]
    },
    {
      "cell_type": "code",
      "source": [
        "#chat history example\n",
        "\n",
        "from cohere import ChatMessage\n",
        "\n",
        "history =[]\n",
        "\n",
        "#create a conversation id\n",
        "\n",
        "import uuid\n",
        "conversation_id = str(uuid.uuid4())\n",
        "\n",
        "#Define a preamble\n",
        "preamble = \"you are an expert public speaking coach\"\n",
        "#preamble = \"you are an weather expert \"\n",
        "#preamble = \"you are an indian lawyer\"\n",
        "\n",
        "print('start the chat. type \"quit\" to end. \\n')\n",
        "\n",
        "while True:\n",
        "\n",
        "      #user message\n",
        "      message = input(\"User : \")\n",
        "\n",
        "      #condition to end the conversation\n",
        "      if message.lower() == \"quit\" :\n",
        "        print(\"Ending Chat .\")\n",
        "        break\n",
        "\n",
        "      response = co.chat_stream(message = message,\n",
        "                                preamble = preamble,\n",
        "                                chat_history = history)\n",
        "\n",
        "      chatbot_response = \"\"\n",
        "\n",
        "      print(\"ChatBot : \", end = '')\n",
        "\n",
        "      for event in response :\n",
        "        if event.event_type == \"text-generation\" :\n",
        "          print (event.text, end ='')\n",
        "          chatbot_response += event.text\n",
        "\n",
        "\n",
        "      print(f\"\\n {'---'*100}\\n\")\n",
        "\n",
        "      history.extend(\n",
        "          [ChatMessage(role=\"USER\", message = message),\n",
        "           ChatMessage(role = \"CHATBOT\", message = chatbot_response)]\n",
        "           )"
      ],
      "metadata": {
        "colab": {
          "base_uri": "https://localhost:8080/"
        },
        "id": "Qe68CHDE555f",
        "outputId": "9eed51ca-03c5-4735-c16e-70d53b5bc904"
      },
      "execution_count": 25,
      "outputs": [
        {
          "output_type": "stream",
          "name": "stdout",
          "text": [
            "start the chat. type \"quit\" to end. \n",
            "\n",
            "User : quit\n",
            "Ending Chat .\n"
          ]
        }
      ]
    },
    {
      "cell_type": "code",
      "source": [
        "print(history)"
      ],
      "metadata": {
        "colab": {
          "base_uri": "https://localhost:8080/"
        },
        "id": "6zBPrQZE_0hP",
        "outputId": "8bae039c-fc1d-4702-e9d2-07b701ddcae4"
      },
      "execution_count": 22,
      "outputs": [
        {
          "output_type": "stream",
          "name": "stdout",
          "text": [
            "[ChatMessage(role='USER', message='about heart'), ChatMessage(role='CHATBOT', message=\"The human heart is an incredible organ, and speaking about it can be a very powerful topic for public speaking. Here are some tips and ideas to help you craft a meaningful and engaging speech:\\n\\n- Begin with the Basics: Start by explaining the heart's physical role in the body, its location in the chest, and its primary function of pumping blood throughout the body. Elaborate on its structure, including the four chambers and the complex network of blood vessels associated with it. \\n\\n- Discuss the Heart's Metaphorical Significance: The heart is often used as a symbol of love, courage, and emotion in popular culture, literature, and folklore. Explore this theme and delve into the ways different societies and cultures perceive the heart. Share famous quotes about the heart, enhancing your speech's depth and interest.\\n\\n- Heart Health and Disease: Transition into the importance of heart health, emphasizing the impact of lifestyle choices on cardiovascular well-being. Discuss common heart diseases, their symptoms, and the advancements in treatments, including surgeries and interventions. You can also talk about the impact of stress and emotions on heart health, citing interesting studies or personal stories to capture the audience's attention. \\n\\n- Technological Advancements: Speak about the latest advancements in cardiology, such as implantable defibrillators, artificial hearts, and even genetic engineering approaches to treat heart conditions. Share success stories of patients who've overcome severe heart ailments, incorporating elements of inspiration and hope. \\n\\n- Research and Future Innovations: Highlight some fascinating ongoing research in the field of cardiology. This could include regenerative medicine, where scientists are exploring the potential of stem cells to regenerate damaged heart tissue or cutting-edge device innovations that might soon revolutionize heart treatment and monitoring. \\n\\n- Personal Connection: If comfortable, share a relevant personal experience, perhaps a family member or friend's battle with a heart condition, and how it impacted your perspective on life. This adds a touch of authenticity and vulnerability to your speech. \\n\\n- Prevention and Awareness Tips: Finish with some practical tips on maintaining heart health, such as dietary recommendations, exercise routines, and stress management techniques. Provide a simple checklist or guidelines the audience can implement right away. \\n\\nRemember to maintain a good pace, use vivid language to describe this fascinating organ, and perhaps incorporate some visual aids or props to make your speech about the heart memorable and impactful. \\n\\nPublic speaking can be nerve-wracking, so practicing your speech beforehand and seeking feedback from others will help boost your confidence and refine your delivery.\"), ChatMessage(role='USER', message='heart color'), ChatMessage(role='CHATBOT', message=\"The color most often associated with the heart, both physically and metaphorically, is red. This association is deep-rooted in history, culture, and biology. Here's a delve into the significance of the color red when it comes to the heart:\\n\\n- Biological Explanation: Blood, being oxygenated, appears bright red, and when it flows through the heart's chambers and is pumped around the body, the organ's red appearance makes sense biologically. The heart's muscles are also rich in oxygenated blood, giving them a reddish hue. \\n\\n- Cultural Symbolism: Red has long been associated with love, passion, and romance across many cultures. This association probably stems from the intense emotional response often linked to these feelings. Additionally, in some ancient cultures, red was symbolic of life, vitality, and strength. Heart symbols, often in red, are also used to represent love, passion, and affection. \\n\\n- Valentine's Day Connection: Valentine's Day, a holiday dedicated to love and affection, has further solidified the link between red and the heart. The exchange of red roses, red hearts, and even wearing red on this day has become a long-standing tradition. \\n\\n- Art and Literature: Artists and writers often use the color red to signify passion, desire, or danger, which aligns with the emotional intensity often attributed to the heart. Red also represents energy, strength, and power, reflecting the heart's vital role in the body. \\n\\nWhile red is the most common color associated with the heart, cultural variations do exist. For instance, in China, the color associated with the heart and love is often portrayed as pink, a more subtle and gentle shade. \\n\\nWhen incorporating the color into your speech, you could use red props, or wear a red accessory to subtly reinforce the connection. Be sure to tie the color's appearance back to your message about the heart, whether it's about physical attributes, emotional symbolism, or cultural significance. The color red can be a powerful tool to create a visually engaging and memorable aspect of your speech.\")]\n"
          ]
        }
      ]
    },
    {
      "cell_type": "code",
      "source": [
        "import json\n",
        "#data = history\n",
        "data = []\n",
        "for message in history:\n",
        "    data.append({\n",
        "        \"role\": message.role,\n",
        "        \"message\": message.message\n",
        "    })\n",
        "json_data = json.dumps(data, indent=4)\n",
        "print(json_data)"
      ],
      "metadata": {
        "colab": {
          "base_uri": "https://localhost:8080/"
        },
        "id": "A9HghLUNE8AO",
        "outputId": "f68c8e7e-2a0b-454b-ccd1-5fbb82c8a7a6"
      },
      "execution_count": 23,
      "outputs": [
        {
          "output_type": "stream",
          "name": "stdout",
          "text": [
            "[\n",
            "    {\n",
            "        \"role\": \"USER\",\n",
            "        \"message\": \"about heart\"\n",
            "    },\n",
            "    {\n",
            "        \"role\": \"CHATBOT\",\n",
            "        \"message\": \"The human heart is an incredible organ, and speaking about it can be a very powerful topic for public speaking. Here are some tips and ideas to help you craft a meaningful and engaging speech:\\n\\n- Begin with the Basics: Start by explaining the heart's physical role in the body, its location in the chest, and its primary function of pumping blood throughout the body. Elaborate on its structure, including the four chambers and the complex network of blood vessels associated with it. \\n\\n- Discuss the Heart's Metaphorical Significance: The heart is often used as a symbol of love, courage, and emotion in popular culture, literature, and folklore. Explore this theme and delve into the ways different societies and cultures perceive the heart. Share famous quotes about the heart, enhancing your speech's depth and interest.\\n\\n- Heart Health and Disease: Transition into the importance of heart health, emphasizing the impact of lifestyle choices on cardiovascular well-being. Discuss common heart diseases, their symptoms, and the advancements in treatments, including surgeries and interventions. You can also talk about the impact of stress and emotions on heart health, citing interesting studies or personal stories to capture the audience's attention. \\n\\n- Technological Advancements: Speak about the latest advancements in cardiology, such as implantable defibrillators, artificial hearts, and even genetic engineering approaches to treat heart conditions. Share success stories of patients who've overcome severe heart ailments, incorporating elements of inspiration and hope. \\n\\n- Research and Future Innovations: Highlight some fascinating ongoing research in the field of cardiology. This could include regenerative medicine, where scientists are exploring the potential of stem cells to regenerate damaged heart tissue or cutting-edge device innovations that might soon revolutionize heart treatment and monitoring. \\n\\n- Personal Connection: If comfortable, share a relevant personal experience, perhaps a family member or friend's battle with a heart condition, and how it impacted your perspective on life. This adds a touch of authenticity and vulnerability to your speech. \\n\\n- Prevention and Awareness Tips: Finish with some practical tips on maintaining heart health, such as dietary recommendations, exercise routines, and stress management techniques. Provide a simple checklist or guidelines the audience can implement right away. \\n\\nRemember to maintain a good pace, use vivid language to describe this fascinating organ, and perhaps incorporate some visual aids or props to make your speech about the heart memorable and impactful. \\n\\nPublic speaking can be nerve-wracking, so practicing your speech beforehand and seeking feedback from others will help boost your confidence and refine your delivery.\"\n",
            "    },\n",
            "    {\n",
            "        \"role\": \"USER\",\n",
            "        \"message\": \"heart color\"\n",
            "    },\n",
            "    {\n",
            "        \"role\": \"CHATBOT\",\n",
            "        \"message\": \"The color most often associated with the heart, both physically and metaphorically, is red. This association is deep-rooted in history, culture, and biology. Here's a delve into the significance of the color red when it comes to the heart:\\n\\n- Biological Explanation: Blood, being oxygenated, appears bright red, and when it flows through the heart's chambers and is pumped around the body, the organ's red appearance makes sense biologically. The heart's muscles are also rich in oxygenated blood, giving them a reddish hue. \\n\\n- Cultural Symbolism: Red has long been associated with love, passion, and romance across many cultures. This association probably stems from the intense emotional response often linked to these feelings. Additionally, in some ancient cultures, red was symbolic of life, vitality, and strength. Heart symbols, often in red, are also used to represent love, passion, and affection. \\n\\n- Valentine's Day Connection: Valentine's Day, a holiday dedicated to love and affection, has further solidified the link between red and the heart. The exchange of red roses, red hearts, and even wearing red on this day has become a long-standing tradition. \\n\\n- Art and Literature: Artists and writers often use the color red to signify passion, desire, or danger, which aligns with the emotional intensity often attributed to the heart. Red also represents energy, strength, and power, reflecting the heart's vital role in the body. \\n\\nWhile red is the most common color associated with the heart, cultural variations do exist. For instance, in China, the color associated with the heart and love is often portrayed as pink, a more subtle and gentle shade. \\n\\nWhen incorporating the color into your speech, you could use red props, or wear a red accessory to subtly reinforce the connection. Be sure to tie the color's appearance back to your message about the heart, whether it's about physical attributes, emotional symbolism, or cultural significance. The color red can be a powerful tool to create a visually engaging and memorable aspect of your speech.\"\n",
            "    }\n",
            "]\n"
          ]
        }
      ]
    },
    {
      "cell_type": "code",
      "source": [
        "! pip install cohere langchain qdrant-client tfds-nightly python-dotenv > /dev/null"
      ],
      "metadata": {
        "id": "4yP6BN6tHWX-"
      },
      "execution_count": 3,
      "outputs": []
    },
    {
      "cell_type": "code",
      "source": [
        "import dotenv\n",
        "import random\n",
        "import os\n",
        "\n",
        "from langchain.embeddings.cohere import CohereEmbeddings\n",
        "from langchain.llms import Cohere\n",
        "from langchain.prompts import Prompt\n",
        "from langchain.text_splitter import RecursiveCharacterTextSplitter\n",
        "from langchain.chains.question_answering import load_qa_chain\n",
        "from langchain.chains import RetrievalQA\n",
        "from langchain.vectorstores import Qdrant\n",
        "from langchain.document_loaders import TextLoader\n",
        "import textwrap as tr"
      ],
      "metadata": {
        "id": "Qmu84IKKHbX6"
      },
      "execution_count": 5,
      "outputs": []
    },
    {
      "cell_type": "code",
      "source": [
        "dotenv.load_dotenv(\".env\")"
      ],
      "metadata": {
        "colab": {
          "base_uri": "https://localhost:8080/"
        },
        "id": "5awfonl1KJxl",
        "outputId": "5c78b7bc-9f93-453a-f79c-e417c3c6d30d"
      },
      "execution_count": 7,
      "outputs": [
        {
          "output_type": "execute_result",
          "data": {
            "text/plain": [
              "True"
            ]
          },
          "metadata": {},
          "execution_count": 7
        }
      ]
    },
    {
      "cell_type": "code",
      "source": [
        "#import and list all documents\n",
        "\n",
        "import tensorflow_datasets as tfds\n",
        "\n",
        "dataset = tfds.load('trec', split='train')\n",
        "texts = [item['text'].decode('utf-8') for item in tfds.as_numpy(dataset)]\n",
        "\n",
        "print(f\"Number of documents : {len(texts)}\")"
      ],
      "metadata": {
        "colab": {
          "base_uri": "https://localhost:8080/"
        },
        "id": "pDwzelkTJP4K",
        "outputId": "296a432f-b6e1-4eee-f67b-cfff318991b4"
      },
      "execution_count": 11,
      "outputs": [
        {
          "output_type": "stream",
          "name": "stdout",
          "text": [
            "Number of documents : 5452\n"
          ]
        }
      ]
    }
  ]
}